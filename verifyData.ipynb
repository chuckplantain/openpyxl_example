{
 "cells": [
  {
   "cell_type": "code",
   "execution_count": 94,
   "metadata": {
    "collapsed": true
   },
   "outputs": [],
   "source": [
    "from openpyxl import load_workbook\n",
    "import datetime"
   ]
  },
  {
   "cell_type": "code",
   "execution_count": 95,
   "metadata": {
    "collapsed": false
   },
   "outputs": [],
   "source": [
    "header = []\n",
    "data = []\n",
    "path_to_file = \"/Users/kyleblazepetan/Plumb/openpyxl_stuff/sampleFile.xlsx\"\n",
    "wb = load_workbook(path_to_file)\n",
    "ws = wb.active\n",
    "\n",
    "#CONSTANTS --- required fields\n",
    "FIRST_NAME = 'FIRST NAME'\n",
    "LAST_NAME = 'LAST NAME'\n",
    "DATE_OF_BIRTH = 'DATE OF BIRTH'\n",
    "SEX = 'SEX'\n",
    "PASSPORT_NUMBER = 'PASSPORT NUMBER'\n",
    "ISSUE_DATE = 'ISSUE DATE'\n",
    "EXPIRATION_DATE = 'EXPIRATION DATE'\n",
    "REQUIRED_FIELDS = [ FIRST_NAME, LAST_NAME, DATE_OF_BIRTH]"
   ]
  },
  {
   "cell_type": "code",
   "execution_count": 96,
   "metadata": {
    "collapsed": false
   },
   "outputs": [
    {
     "name": "stdout",
     "output_type": "stream",
     "text": [
      "{u'middle initial': u'A', u'weight': 200, u'last name': u'Seleb', u'date of birth': datetime.datetime(2015, 2, 4, 0, 0), u'sex': u'F', u'first name': u'Karen', u'issue date': datetime.datetime(2015, 10, 1, 0, 0), u'passport number': 334, u'issuing country': u'United States of America', u'expiration date': datetime.datetime(2015, 12, 31, 0, 0)}\n"
     ]
    }
   ],
   "source": [
    "def saveItem(item, state):\n",
    "    for field in REQUIRED_FIELDS:        \n",
    "        try:\n",
    "            val = item[field.lower()]\n",
    "        except:\n",
    "            print('ERROR: at least one required field is missing')\n",
    "            print 'Specifically: \\n', item, '\\nis missing ', field, ' field'\n",
    "            print('The Required Fields Are:')\n",
    "            for field in REQUIRED_FIELDS:\n",
    "                print(field)              \n",
    "    for key in item.keys():\n",
    "        verifyKeys(item, key)\n",
    "    state.append(item)\n",
    "\n",
    "def verifyKeys(item, key):\n",
    "    if (key == 'date of birth' or key == 'issue date' or key == 'expiration date'):\n",
    "        val = item[key]\n",
    "        if isinstance(val, datetime.date):\n",
    "            pass\n",
    "        else:            \n",
    "            print('ERROR: dates should be in MM/DD/YYYY format please')\n",
    "        if (key == 'issue date' and item[key] > datetime.datetime.today()):\n",
    "            print('ERROR: Passport has not been issued yet')\n",
    "        if (key == 'expiration date' and item[key] < (datetime.datetime.today() or item['issue date'])):\n",
    "            print('ERROR: Passport is expired')\n",
    "            \n",
    "    if (key == 'first name' or key == 'last name'):\n",
    "        val = item[key]\n",
    "        if (isinstance(val, unicode)):\n",
    "            pass\n",
    "        else:\n",
    "            print('ERROR: Names must be unicode and less than 55 characters long')\n",
    "            \n",
    "    if (key == 'weight'):\n",
    "        val = item[key]\n",
    "        if (isinstance(val, int)):\n",
    "            pass\n",
    "        else:\n",
    "            print('ERROR: weight should be numerical')\n",
    "            \n",
    "    if (key == 'sex'):\n",
    "        val = item[key]\n",
    "        if (val == 'M' or 'F' or 'm' or 'f'):\n",
    "            pass\n",
    "        else:\n",
    "            print('ERROR: gender should be specified with a M or a F')\n",
    "\n",
    "            \n",
    "for i, row in enumerate(ws['D11':'M511']):\n",
    "    dataItem = {}\n",
    "    for j, cell in enumerate(row):\n",
    "        if (i <= 0):\n",
    "            header.append(cell.value.lower())\n",
    "        else:\n",
    "            if cell.value is not None:\n",
    "                dataItem[header[j]] = cell.value           \n",
    "    if (dataItem):\n",
    "        saveItem(dataItem, data)\n",
    "print(data[1])"
   ]
  },
  {
   "cell_type": "code",
   "execution_count": null,
   "metadata": {
    "collapsed": true
   },
   "outputs": [],
   "source": []
  }
 ],
 "metadata": {
  "kernelspec": {
   "display_name": "Python 2",
   "language": "python",
   "name": "python2"
  },
  "language_info": {
   "codemirror_mode": {
    "name": "ipython",
    "version": 2
   },
   "file_extension": ".py",
   "mimetype": "text/x-python",
   "name": "python",
   "nbconvert_exporter": "python",
   "pygments_lexer": "ipython2",
   "version": "2.7.10"
  }
 },
 "nbformat": 4,
 "nbformat_minor": 0
}
