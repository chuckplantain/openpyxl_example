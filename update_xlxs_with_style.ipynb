{
 "cells": [
  {
   "cell_type": "code",
   "execution_count": 3,
   "metadata": {
    "collapsed": false
   },
   "outputs": [],
   "source": [
    "from openpyxl import load_workbook\n",
    "import re\n",
    "\n",
    "data_dict = {}\n",
    "data_dict['foo'] = 'Kyle Petan'\n",
    "data_dict['bar'] = \"Splendid and Great\"\n",
    "\n",
    "path_to_test_markedup_file = \"/Users/kyleblazepetan/github/openpyxl_example/testFile.xlsx\"\n",
    "wb = load_workbook(path_to_test_markedup_file)\n",
    "ws = wb.active\n",
    "\n",
    "pattern = re.compile(r'(<<)(\\w+)(>>)')\n",
    "\n",
    "def lookUpFunction(matchobj):\n",
    "    resp = data_dict[str(matchobj.group(2)).lower()]\n",
    "    if resp:\n",
    "        return resp\n",
    "    return 'key not found'\n",
    "    \n",
    "for row in ws.iter_rows():\n",
    "    for cell in row:\n",
    "        if cell.value is not None:\n",
    "            cell.value = re.sub(pattern, lookUpFunction, cell.value)\n",
    "save_destination = \"/Users/kyleblazepetan/github/openpyxl_example/new_shiny_file.xlsx\"            \n",
    "wb.save(save_destination)"
   ]
  },
  {
   "cell_type": "code",
   "execution_count": null,
   "metadata": {
    "collapsed": true
   },
   "outputs": [],
   "source": []
  }
 ],
 "metadata": {
  "kernelspec": {
   "display_name": "Python 2",
   "language": "python",
   "name": "python2"
  },
  "language_info": {
   "codemirror_mode": {
    "name": "ipython",
    "version": 2
   },
   "file_extension": ".py",
   "mimetype": "text/x-python",
   "name": "python",
   "nbconvert_exporter": "python",
   "pygments_lexer": "ipython2",
   "version": "2.7.10"
  }
 },
 "nbformat": 4,
 "nbformat_minor": 0
}
